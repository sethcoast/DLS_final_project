{
 "cells": [
  {
   "cell_type": "code",
   "execution_count": 9,
   "metadata": {},
   "outputs": [],
   "source": [
    "#import modules\n",
    "import os\n",
    "import re\n",
    "import numpy as np\n",
    "import moviepy.video.io.ImageSequenceClip\n",
    "import matplotlib\n",
    "import matplotlib.pyplot as plt\n",
    "import matplotlib.colors as colors\n",
    "from matplotlib import cm\n",
    "from matplotlib.colors import ListedColormap, LinearSegmentedColormap\n",
    "matplotlib.rcParams['font.family'] = \"sans-serif\"\n"
   ]
  },
  {
   "cell_type": "code",
   "execution_count": 10,
   "metadata": {},
   "outputs": [],
   "source": [
    "def movie_generate(image_folder, fps, t_i, t_e, name='my_test'):  \n",
    "\n",
    "    '''\n",
    "    movie_generate: it generates a movie with given snapshots(png file I mean)\n",
    "    Argumets:\n",
    "    image_folder-- directory where you want to save pngs\n",
    "    fps-- number of frames per second\n",
    "    t_i-- initial time of snapshots\n",
    "    t_e-- final time of snapshots\n",
    "    '''\n",
    "\n",
    "    image_files = []\n",
    "    for t_i in range(t_i,t_e):\n",
    "        path = image_folder + '{0}-{1}'.format(t_i,name)+'.png'\n",
    "        image_files.append(path)\n",
    "    clip = moviepy.video.io.ImageSequenceClip.ImageSequenceClip(image_files, fps=5)\n",
    "    clip.write_videofile(image_folder + 'video_{}.mp4'.format(name))\n"
   ]
  },
  {
   "cell_type": "code",
   "execution_count": null,
   "metadata": {},
   "outputs": [],
   "source": [
    "image_folder='gan/samples/'\n",
    "t_i = 1\n",
    "t_e = 50\n",
    "fps = 10\n",
    "movie_generate(image_folder, fps, t_i, t_e) #, 'sample')"
   ]
  }
 ],
 "metadata": {
  "kernelspec": {
   "display_name": "Python 3",
   "language": "python",
   "name": "python3"
  },
  "language_info": {
   "codemirror_mode": {
    "name": "ipython",
    "version": 3
   },
   "file_extension": ".py",
   "mimetype": "text/x-python",
   "name": "python",
   "nbconvert_exporter": "python",
   "pygments_lexer": "ipython3",
   "version": "3.7.3"
  }
 },
 "nbformat": 4,
 "nbformat_minor": 4
}
